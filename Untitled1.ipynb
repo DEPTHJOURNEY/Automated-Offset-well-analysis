{
  "nbformat": 4,
  "nbformat_minor": 0,
  "metadata": {
    "colab": {
      "provenance": [],
      "authorship_tag": "ABX9TyOIN4MvNAua2E/gRk3ZM7Lt",
      "include_colab_link": true
    },
    "kernelspec": {
      "name": "python3",
      "display_name": "Python 3"
    },
    "language_info": {
      "name": "python"
    }
  },
  "cells": [
    {
      "cell_type": "markdown",
      "metadata": {
        "id": "view-in-github",
        "colab_type": "text"
      },
      "source": [
        "<a href=\"https://colab.research.google.com/github/JVJayarah3/Automated-Offset-well-analysis/blob/main/Untitled1.ipynb\" target=\"_parent\"><img src=\"https://colab.research.google.com/assets/colab-badge.svg\" alt=\"Open In Colab\"/></a>"
      ]
    },
    {
      "cell_type": "code",
      "execution_count": 1,
      "metadata": {
        "colab": {
          "base_uri": "https://localhost:8080/"
        },
        "id": "TH8fZ-WJTJ3L",
        "outputId": "131d6dae-30bd-4959-ba33-8466a8906526"
      },
      "outputs": [
        {
          "output_type": "stream",
          "name": "stdout",
          "text": [
            "Looking in indexes: https://pypi.org/simple, https://us-python.pkg.dev/colab-wheels/public/simple/\n",
            "Requirement already satisfied: pandas in /usr/local/lib/python3.9/dist-packages (1.4.4)\n",
            "Requirement already satisfied: numpy>=1.18.5 in /usr/local/lib/python3.9/dist-packages (from pandas) (1.22.4)\n",
            "Requirement already satisfied: pytz>=2020.1 in /usr/local/lib/python3.9/dist-packages (from pandas) (2022.7.1)\n",
            "Requirement already satisfied: python-dateutil>=2.8.1 in /usr/local/lib/python3.9/dist-packages (from pandas) (2.8.2)\n",
            "Requirement already satisfied: six>=1.5 in /usr/local/lib/python3.9/dist-packages (from python-dateutil>=2.8.1->pandas) (1.15.0)\n"
          ]
        }
      ],
      "source": [
        "!pip install pandas"
      ]
    },
    {
      "cell_type": "code",
      "source": [
        "import pandas as pd\n",
        "url = \"https://github.com/JVJayarah3/Automated-Offset-well-analysis/blob/main/test.xlsx?raw=true\"\n",
        "df = pd.read_excel(url)\n",
        "print(df.head)\n",
        "df = df[:-1] \n",
        "print(df)\n",
        "df.to_url(\"https://github.com/JVJayarah3/Automated-Offset-well-analysis/blob/main/test.xlsx\")"
      ],
      "metadata": {
        "colab": {
          "base_uri": "https://localhost:8080/",
          "height": 1000
        },
        "id": "Cv4P0pPtXmvg",
        "outputId": "d1f0c9d9-a8db-48df-8a05-5941862745c3"
      },
      "execution_count": 11,
      "outputs": [
        {
          "output_type": "stream",
          "name": "stdout",
          "text": [
            "<bound method NDFrame.head of                                              F/NAME  WELL_NO  WATER_DEPTH  \\\n",
            "0   IADCRpt_Compact Driller_CMD-22-3_140_220926.pdf   LB-13Z         13.0   \n",
            "1   IADCRpt_Compact Driller_CMD-22-3_140_220926.pdf   LB-13Z         13.0   \n",
            "2   IADCRpt_Compact Driller_CMD-22-3_140_220926.pdf   LB-13Z         13.0   \n",
            "3   IADCRpt_Compact Driller_CMD-22-3_140_220926.pdf   LB-13Z         13.0   \n",
            "4   IADCRpt_Compact Driller_CMD-22-3_141_220927.pdf   LB-13Z         13.0   \n",
            "5   IADCRpt_Compact Driller_CMD-22-3_141_220927.pdf   LB-13Z         13.0   \n",
            "6   IADCRpt_Compact Driller_CMD-22-3_141_220927.pdf   LB-13Z         13.0   \n",
            "7   IADCRpt_Compact Driller_CMD-22-3_141_220927.pdf   LB-13Z         13.0   \n",
            "8   IADCRpt_Compact Driller_CMD-22-3_141_220927.pdf   LB-13Z         13.0   \n",
            "9   IADCRpt_Compact Driller_CMD-22-3_141_220927.pdf   LB-13Z         13.0   \n",
            "10  IADCRpt_Compact Driller_CMD-22-3_142_220928.pdf   LB-13Z         13.0   \n",
            "11  IADCRpt_Compact Driller_CMD-22-3_142_220928.pdf   LB-13Z         13.0   \n",
            "12  IADCRpt_Compact Driller_CMD-22-3_142_220928.pdf   LB-13Z         13.0   \n",
            "\n",
            "   RIG_NO              OPERATOR          DATE  ELAPSED_TIME OPERATIONAL-CODE  \\\n",
            "0     CMD   CAIRN ENERGY INDIA    26-Sep-22             4.5                C   \n",
            "1     CMD   CAIRN ENERGY INDIA    26-Sep-22             1.5                6   \n",
            "2     CMD   CAIRN ENERGY INDIA    26-Sep-22             6.0                6   \n",
            "3     CMD   CAIRN ENERGY INDIA    26-Sep-22            12.0                6   \n",
            "4     CMD   CAIRN ENERGY INDIA    27-Sep-22             8.5                6   \n",
            "5     CMD   CAIRN ENERGY INDIA    27-Sep-22             1.5                6   \n",
            "6     CMD   CAIRN ENERGY INDIA    27-Sep-22             2.0                6   \n",
            "7     CMD   CAIRN ENERGY INDIA    27-Sep-22             2.0                6   \n",
            "8     CMD   CAIRN ENERGY INDIA    27-Sep-22             4.5                6   \n",
            "9     CMD   CAIRN ENERGY INDIA    27-Sep-22             5.5                1   \n",
            "10    CMD   CAIRN ENERGY INDIA    28-Sep-22             6.0               23   \n",
            "11    CMD   CAIRN ENERGY INDIA    28-Sep-22             6.0               23   \n",
            "12    CMD   CAIRN ENERGY INDIA    28-Sep-22            12.0                1   \n",
            "\n",
            "                                       DAILY_ACTIVITY  \\\n",
            "0   CONTINUE PERFORMING ACID STIMULATION JOB ON WE...   \n",
            "1   HPJSM. STARTED BREAKING 5\" DP TO SINGLES (15 J...   \n",
            "2   CONTINUE STARTED BREAKING 5\" DP TO SINGLES (90...   \n",
            "3   HELD PJSM AND CONTINUE BREAK OUT AND L/DN 5” D...   \n",
            "4   INSTALL COVER PLATE ON LB WELL NO 11. CONTINUE...   \n",
            "5   PJSM CHANGE HANDLING EQUIPMENT TO 5 1/2\" LAY D...   \n",
            "6   DECK MANAGEMENT MAKE SPACE ON CANTILEVER DECK ...   \n",
            "7   DECK MANAGEMENT MAKE SPACE ON CANTILEVER DECK ...   \n",
            "8   HELD PJSM BREAK OUT AND LOUT 5 1/2” HWDP STAND...   \n",
            "9   PREPARE FOR SKIDDING RIG TRANSVERSE. BREAK OUT...   \n",
            "10  CONTINUE TO L/OUT 5 ½” DP ON MAIN DECK PREPARI...   \n",
            "11  CONTINUE LAY OUT 5 ½” DP ON MAIN DECK. CONTINU...   \n",
            "12  CONTINUE SECURING JUMPER HOSES AND SERVICE HOS...   \n",
            "\n",
            "                                            REMARKS-1 COLOR  \n",
            "0   :PREPARE FOR UP COMING JOB 17. PLUG BACK5\" SAV...   NaN  \n",
            "1   :PREPARE FOR UP COMING JOB 17. PLUG BACK5\" SAV...   NaN  \n",
            "2   :PREPARE FOR UP COMING JOB 17. PLUG BACK5\" SAV...   NaN  \n",
            "3   :PREPARE FOR UP COMING JOB 17. PLUG BACK5\" SAV...   NaN  \n",
            "4   : PREPARE FOR UP COMING JOB  17. PLUG BACK5\" S...   RED  \n",
            "5   : PREPARE FOR UP COMING JOB  17. PLUG BACK5\" S...   RED  \n",
            "6   : PREPARE FOR UP COMING JOB  17. PLUG BACK5\" S...   NaN  \n",
            "7   : PREPARE FOR UP COMING JOB  17. PLUG BACK5\" S...   NaN  \n",
            "8   : PREPARE FOR UP COMING JOB  17. PLUG BACK5\" S...   NaN  \n",
            "9   : PREPARE FOR UP COMING JOB  17. PLUG BACK5\" S...   NaN  \n",
            "10  :PREPARE FOR UP COMING JOB 17. PLUG BACK5\" SAV...   NaN  \n",
            "11  :PREPARE FOR UP COMING JOB 17. PLUG BACK5\" SAV...   NaN  \n",
            "12  :PREPARE FOR UP COMING JOB 17. PLUG BACK5\" SAV...   NaN  >\n",
            "                                             F/NAME  WELL_NO  WATER_DEPTH  \\\n",
            "0   IADCRpt_Compact Driller_CMD-22-3_140_220926.pdf   LB-13Z         13.0   \n",
            "1   IADCRpt_Compact Driller_CMD-22-3_140_220926.pdf   LB-13Z         13.0   \n",
            "2   IADCRpt_Compact Driller_CMD-22-3_140_220926.pdf   LB-13Z         13.0   \n",
            "3   IADCRpt_Compact Driller_CMD-22-3_140_220926.pdf   LB-13Z         13.0   \n",
            "4   IADCRpt_Compact Driller_CMD-22-3_141_220927.pdf   LB-13Z         13.0   \n",
            "5   IADCRpt_Compact Driller_CMD-22-3_141_220927.pdf   LB-13Z         13.0   \n",
            "6   IADCRpt_Compact Driller_CMD-22-3_141_220927.pdf   LB-13Z         13.0   \n",
            "7   IADCRpt_Compact Driller_CMD-22-3_141_220927.pdf   LB-13Z         13.0   \n",
            "8   IADCRpt_Compact Driller_CMD-22-3_141_220927.pdf   LB-13Z         13.0   \n",
            "9   IADCRpt_Compact Driller_CMD-22-3_141_220927.pdf   LB-13Z         13.0   \n",
            "10  IADCRpt_Compact Driller_CMD-22-3_142_220928.pdf   LB-13Z         13.0   \n",
            "11  IADCRpt_Compact Driller_CMD-22-3_142_220928.pdf   LB-13Z         13.0   \n",
            "\n",
            "   RIG_NO              OPERATOR          DATE  ELAPSED_TIME OPERATIONAL-CODE  \\\n",
            "0     CMD   CAIRN ENERGY INDIA    26-Sep-22             4.5                C   \n",
            "1     CMD   CAIRN ENERGY INDIA    26-Sep-22             1.5                6   \n",
            "2     CMD   CAIRN ENERGY INDIA    26-Sep-22             6.0                6   \n",
            "3     CMD   CAIRN ENERGY INDIA    26-Sep-22            12.0                6   \n",
            "4     CMD   CAIRN ENERGY INDIA    27-Sep-22             8.5                6   \n",
            "5     CMD   CAIRN ENERGY INDIA    27-Sep-22             1.5                6   \n",
            "6     CMD   CAIRN ENERGY INDIA    27-Sep-22             2.0                6   \n",
            "7     CMD   CAIRN ENERGY INDIA    27-Sep-22             2.0                6   \n",
            "8     CMD   CAIRN ENERGY INDIA    27-Sep-22             4.5                6   \n",
            "9     CMD   CAIRN ENERGY INDIA    27-Sep-22             5.5                1   \n",
            "10    CMD   CAIRN ENERGY INDIA    28-Sep-22             6.0               23   \n",
            "11    CMD   CAIRN ENERGY INDIA    28-Sep-22             6.0               23   \n",
            "\n",
            "                                       DAILY_ACTIVITY  \\\n",
            "0   CONTINUE PERFORMING ACID STIMULATION JOB ON WE...   \n",
            "1   HPJSM. STARTED BREAKING 5\" DP TO SINGLES (15 J...   \n",
            "2   CONTINUE STARTED BREAKING 5\" DP TO SINGLES (90...   \n",
            "3   HELD PJSM AND CONTINUE BREAK OUT AND L/DN 5” D...   \n",
            "4   INSTALL COVER PLATE ON LB WELL NO 11. CONTINUE...   \n",
            "5   PJSM CHANGE HANDLING EQUIPMENT TO 5 1/2\" LAY D...   \n",
            "6   DECK MANAGEMENT MAKE SPACE ON CANTILEVER DECK ...   \n",
            "7   DECK MANAGEMENT MAKE SPACE ON CANTILEVER DECK ...   \n",
            "8   HELD PJSM BREAK OUT AND LOUT 5 1/2” HWDP STAND...   \n",
            "9   PREPARE FOR SKIDDING RIG TRANSVERSE. BREAK OUT...   \n",
            "10  CONTINUE TO L/OUT 5 ½” DP ON MAIN DECK PREPARI...   \n",
            "11  CONTINUE LAY OUT 5 ½” DP ON MAIN DECK. CONTINU...   \n",
            "\n",
            "                                            REMARKS-1 COLOR  \n",
            "0   :PREPARE FOR UP COMING JOB 17. PLUG BACK5\" SAV...   NaN  \n",
            "1   :PREPARE FOR UP COMING JOB 17. PLUG BACK5\" SAV...   NaN  \n",
            "2   :PREPARE FOR UP COMING JOB 17. PLUG BACK5\" SAV...   NaN  \n",
            "3   :PREPARE FOR UP COMING JOB 17. PLUG BACK5\" SAV...   NaN  \n",
            "4   : PREPARE FOR UP COMING JOB  17. PLUG BACK5\" S...   RED  \n",
            "5   : PREPARE FOR UP COMING JOB  17. PLUG BACK5\" S...   RED  \n",
            "6   : PREPARE FOR UP COMING JOB  17. PLUG BACK5\" S...   NaN  \n",
            "7   : PREPARE FOR UP COMING JOB  17. PLUG BACK5\" S...   NaN  \n",
            "8   : PREPARE FOR UP COMING JOB  17. PLUG BACK5\" S...   NaN  \n",
            "9   : PREPARE FOR UP COMING JOB  17. PLUG BACK5\" S...   NaN  \n",
            "10  :PREPARE FOR UP COMING JOB 17. PLUG BACK5\" SAV...   NaN  \n",
            "11  :PREPARE FOR UP COMING JOB 17. PLUG BACK5\" SAV...   NaN  \n"
          ]
        },
        {
          "output_type": "error",
          "ename": "AttributeError",
          "evalue": "ignored",
          "traceback": [
            "\u001b[0;31m---------------------------------------------------------------------------\u001b[0m",
            "\u001b[0;31mAttributeError\u001b[0m                            Traceback (most recent call last)",
            "\u001b[0;32m<ipython-input-11-de1193fbd130>\u001b[0m in \u001b[0;36m<module>\u001b[0;34m\u001b[0m\n\u001b[1;32m      5\u001b[0m \u001b[0mdf\u001b[0m \u001b[0;34m=\u001b[0m \u001b[0mdf\u001b[0m\u001b[0;34m[\u001b[0m\u001b[0;34m:\u001b[0m\u001b[0;34m-\u001b[0m\u001b[0;36m1\u001b[0m\u001b[0;34m]\u001b[0m\u001b[0;34m\u001b[0m\u001b[0;34m\u001b[0m\u001b[0m\n\u001b[1;32m      6\u001b[0m \u001b[0mprint\u001b[0m\u001b[0;34m(\u001b[0m\u001b[0mdf\u001b[0m\u001b[0;34m)\u001b[0m\u001b[0;34m\u001b[0m\u001b[0;34m\u001b[0m\u001b[0m\n\u001b[0;32m----> 7\u001b[0;31m \u001b[0mdf\u001b[0m\u001b[0;34m.\u001b[0m\u001b[0mto_url\u001b[0m\u001b[0;34m(\u001b[0m\u001b[0;34m\"https://github.com/JVJayarah3/Automated-Offset-well-analysis/blob/main/test.xlsx\"\u001b[0m\u001b[0;34m)\u001b[0m\u001b[0;34m\u001b[0m\u001b[0;34m\u001b[0m\u001b[0m\n\u001b[0m",
            "\u001b[0;32m/usr/local/lib/python3.9/dist-packages/pandas/core/generic.py\u001b[0m in \u001b[0;36m__getattr__\u001b[0;34m(self, name)\u001b[0m\n\u001b[1;32m   5573\u001b[0m         ):\n\u001b[1;32m   5574\u001b[0m             \u001b[0;32mreturn\u001b[0m \u001b[0mself\u001b[0m\u001b[0;34m[\u001b[0m\u001b[0mname\u001b[0m\u001b[0;34m]\u001b[0m\u001b[0;34m\u001b[0m\u001b[0;34m\u001b[0m\u001b[0m\n\u001b[0;32m-> 5575\u001b[0;31m         \u001b[0;32mreturn\u001b[0m \u001b[0mobject\u001b[0m\u001b[0;34m.\u001b[0m\u001b[0m__getattribute__\u001b[0m\u001b[0;34m(\u001b[0m\u001b[0mself\u001b[0m\u001b[0;34m,\u001b[0m \u001b[0mname\u001b[0m\u001b[0;34m)\u001b[0m\u001b[0;34m\u001b[0m\u001b[0;34m\u001b[0m\u001b[0m\n\u001b[0m\u001b[1;32m   5576\u001b[0m \u001b[0;34m\u001b[0m\u001b[0m\n\u001b[1;32m   5577\u001b[0m     \u001b[0;32mdef\u001b[0m \u001b[0m__setattr__\u001b[0m\u001b[0;34m(\u001b[0m\u001b[0mself\u001b[0m\u001b[0;34m,\u001b[0m \u001b[0mname\u001b[0m\u001b[0;34m:\u001b[0m \u001b[0mstr\u001b[0m\u001b[0;34m,\u001b[0m \u001b[0mvalue\u001b[0m\u001b[0;34m)\u001b[0m \u001b[0;34m->\u001b[0m \u001b[0;32mNone\u001b[0m\u001b[0;34m:\u001b[0m\u001b[0;34m\u001b[0m\u001b[0;34m\u001b[0m\u001b[0m\n",
            "\u001b[0;31mAttributeError\u001b[0m: 'DataFrame' object has no attribute 'to_url'"
          ]
        }
      ]
    }
  ]
}